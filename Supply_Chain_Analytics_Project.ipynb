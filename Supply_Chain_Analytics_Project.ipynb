{
 "cells": [
  {
   "cell_type": "markdown",
   "id": "e8128611",
   "metadata": {},
   "source": [
    "<center><h1> 42380 Supply Chain Analytics</h1></center>"
   ]
  },
  {
   "cell_type": "markdown",
   "id": "b869484c",
   "metadata": {},
   "source": [
    "<h2 align=\"center\">Assignment 1: Traffic flow fundamentals</h2></br>\n",
    "\n",
    "<center>Adamopoulos Thomas Student no. : s213163</center>\n",
    "<center>Zerzis Dimitris Student no. : s210911</center>\n",
    "<center>Apeni Eben Student no. : s216084</center>\n",
    "<center>Guitart Gendre Andreu Student no. : s213260</center>\n",
    "<br>\n",
    "<center>All members contributed</center>\n",
    "<center>Code predominantly Dimitris and Thomas</center>\n",
    "<center>Questions predominantly Eben and Andreu</center>"
   ]
  },
  {
   "cell_type": "markdown",
   "id": "136bcb59",
   "metadata": {},
   "source": [
    "# Part I: Demand analysis"
   ]
  },
  {
   "cell_type": "markdown",
   "id": "b2252061",
   "metadata": {},
   "source": [
    "### 1. Determine the demand distribution (mean and standard deviation) for salmon at each DC on each of the days in the planning horizon.  <br>\n",
    "### 2. What is the benefit of having salmon in each of the three products? Would there have been downsides to having three different kinds of fish in the three different products, even if they all cost the same per kilogram?"
   ]
  },
  {
   "cell_type": "markdown",
   "id": "687c4bed",
   "metadata": {},
   "source": [
    "1. Completed in attatched Excel <br>\n",
    "<br>\n",
    "2. The primary benefit of having only salmon in each product simplifies the job of the supplier as there are 3 variations. Had there been 3 different types of fish there would be 9 variations. Consequently, the demand for all three different products can be treated as one. Simplifying both, the model for the inventory and for the route generation.<br><br> Regarding the inventory, this would have to supply all the demand and not take into account to cover the demand that each product has. It would be only one distribution. Also, It is important to bear in mind that calculations of the costs will be easier as well. The uncertainty would be covered more easily and the probability to suffer expenses due to the perishable goods will be reduced.<br><br>To give an example, if we had different types of fish for each product we would need the demand of each fish product to find the inventory for each DC. Therefore there would be more variables and the calculation would be slightly more complex. Resulting in increased cost. In addition to the storage of the different fish as each one would be governed by different timescales.<br><br>For the route generation, it is also easier. There will be fewer partitions and the vehicles will have more freedom to do their routes. This means that would be a combinatorial optimization in the other case the problem would be more complex and is it known that the number of possible combinations will grow exponentially.\n"
   ]
  },
  {
   "cell_type": "markdown",
   "id": "9f64579c",
   "metadata": {},
   "source": [
    "---------------------------------------------------------------------------------------------------------------------------------------"
   ]
  },
  {
   "cell_type": "markdown",
   "id": "dbbf324f",
   "metadata": {},
   "source": [
    "# Part II: Solving the problem"
   ]
  },
  {
   "cell_type": "markdown",
   "id": "a50f3e14",
   "metadata": {},
   "source": [
    "## <b>Q1.</b> Build and solve an inventory routing model in Julia in order to determine the and the optimal inventory levels for the DCs, assuming there is no uncertainty (so only use salmon demand distribution). Report on the routes used and the inventory levels over the different days.\n",
    "Hint: If your model is correct, you should get an optimal cost of 4481.57."
   ]
  },
  {
   "cell_type": "code",
   "execution_count": 3,
   "id": "c7c97666",
   "metadata": {},
   "outputs": [],
   "source": [
    "# Mandatory imports \n",
    "\n",
    "using JuMP\n",
    "using Gurobi\n",
    "using Random\n",
    "using Distributions"
   ]
  },
  {
   "cell_type": "code",
   "execution_count": 7,
   "id": "393d2ff7",
   "metadata": {},
   "outputs": [],
   "source": [
    "#------\n",
    "# DATA\n",
    "#------\n",
    "\n",
    "# holding cost per unit h = 0.025 \n",
    "K = 3;    # number vehicles\n",
    "\n",
    "#I = 38    # Number of customers                    (39 number of nodes, node 1 is the depot)\n",
    "N = 6     # Number of DCs +supplier\n",
    "T = 8;    # Number of periods\n",
    "\n",
    "\n",
    "# Holding cost per unit per DC\n",
    "h = 0.025  \n",
    "\n",
    "# Capacity of trucks in kg\n",
    "D = [900 900 900]\n",
    "\n",
    "# Storage Capacity per DC\n",
    "C = [2500 502 488 220 486 742]  # Storage Capacity per DC +supplier (2500>2438 sum of DCs)\n",
    "\n",
    "# Initial inventory per DC\n",
    "I_0 = [0 98.8 153.9 42.4 23.4 85.7] # Initial inventory per DC\n",
    "\n",
    "#Mean demand dc/day (10 planning horizons)\n",
    "d=[0 0 0 0 0 0 0 0;\n",
    "75.9 75.9 75.9 75.9 75.9 85.7 85.7 75.9;\n",
    "62.9 94.8 94.8 94.8 94.8 68.65 36.75 62.9;\n",
    "67.2 67.2 67.2 67.2 67.2 67.15 67.15 67.2;\n",
    "102.3 156 156 156 156 119.05 65.35 102.3;\n",
    "107.4 130.1 130.1 130.1 130.1 65.15 42.45 107.4]\n",
    "\n",
    "# Standard deviation of Demand\n",
    "std=[\n",
    "0 0 0 0 0 0 0 0;\n",
    "11.87 11.87 11.87 11.87 11.87 14.69 14.69 11.87;\n",
    "10.91 13.89 13.89 13.89 13.89 14.14 11.22 10.91;\n",
    "11.27 11.27 11.27 11.27 11.27 12.86 12.86 11.27;\n",
    "13.19 16.03 16.03 16.03 16.03 15.05 11.98 13.19;\n",
    "13.04 14.00 14.00 14.00 14.00 11.08 9.84 13.04]\n",
    "\n",
    "\n",
    "#Transportation cost per unit\n",
    "c=[0 140 434 389 419 125;\n",
    "140 0 300 455 400 97;\n",
    "434 300 0 609 417 330;\n",
    "389 455 609 0 256 358;\n",
    "419 400 417 256 0 316;\n",
    "125 97 330 358 316 0]\n",
    "\n",
    "print(\"\")"
   ]
  },
  {
   "cell_type": "code",
   "execution_count": 8,
   "id": "d09738e5",
   "metadata": {},
   "outputs": [
    {
     "name": "stdout",
     "output_type": "stream",
     "text": [
      "Set parameter Username\n",
      "Academic license - for non-commercial use only - expires 2022-06-30\n"
     ]
    }
   ],
   "source": [
    "#------\n",
    "# MODEL\n",
    "#------\n",
    "\n",
    "model = Model(Gurobi.Optimizer);\n",
    "\n",
    "@variable(model, I[1:N,0:T] >= 0)          # Inventory level per period\n",
    "@variable(model, q[1:N,1:K,1:T] >= 0)      # Quantity delivered to customer i by vehicle k at start of period T \n",
    "@variable(model, x[1:N,1:N,1:K,1:T], Bin); # Truck k leaves DCi and goes TO DCj\n",
    "@variable(model, y[1:N,1:K,1:T], Bin);     # Truck k arrives at DCi\n",
    "@variable(model, z[1:N,1:K,1:T] >= 0);     # Load of truck k when arriving at node i\n",
    "\n",
    "@objective(model, Min, sum(sum(h*I[i,t]  for i in 2:N) for t in 1:T) #check\n",
    "                      +sum(sum(sum(sum( c[i,j]*x[i,j,k,t] for i in 1:N) for j in 1:N) for k = 1:K) for t in 1:T)); \n",
    "\n",
    "\n",
    "\n",
    "# Multi - period VRP model constrains\n",
    "@constraint(model,[v = 1:N, k = 1:K,t = 1:T], sum(i == v ? 0 : x[i,v,k,t] for i = 1:N) == y[v,k,t]); #!\n",
    "@constraint(model,[v = 1:N, k = 1:K,t = 1:T], sum(j == v ? 0 : x[v,j,k,t] for j = 1:N) == y[v,k,t]); #!\n",
    "\n",
    "# Subtour elimination constrains    \n",
    "@constraint(model,[i = 2:N, j = 2:N, k = 1:K,t = 1:T], z[i,k,t] - d[i,t] >= z[j,k,t] - (1-x[i,j,k,t])*sum(d)); # Load Constrains logic (i=j=2 substrack depot)\n",
    "\n",
    "#Inventory Constrains #!!\n",
    "@constraint(model, [i = 2:N], I[i,0] == I_0[i])    \n",
    "@constraint(model, [i = 2:N,t = 1:T], I[i,t-1] + sum(q[i,k,t] for k = 1:K) == I[i,t] + d[i,t]); \n",
    "@constraint(model, [i = 2:N,t = 1:T], I[i,t-1] + sum(q[i,k,t] for k = 1:K) <= C[i]); \n",
    "\n",
    "# Inventory & VRP constrains\n",
    "@constraint(model,[i=2:N,k=1:K,t=1:T], q[i,k,t] <= C[i]*y[i,k,t]); # Constraint which ensures y is 1 when they receive a quantity    \n",
    "@constraint(model,[k = 1:K,t = 1:T],  sum(q[i,k,t] for i = 2:N) <= D[k]*y[1,k,t]);# Avoid subtours  \n"
   ]
  },
  {
   "cell_type": "code",
   "execution_count": 9,
   "id": "5cf7fa70",
   "metadata": {},
   "outputs": [
    {
     "name": "stdout",
     "output_type": "stream",
     "text": [
      "Gurobi Optimizer version 9.5.1 build v9.5.1rc2 (mac64[arm])\n",
      "Thread count: 8 physical cores, 8 logical processors, using up to 8 threads\n",
      "Optimize a model with 1117 rows, 1350 columns and 4037 nonzeros\n",
      "Model fingerprint: 0x9c1140df\n",
      "Variable types: 342 continuous, 1008 integer (1008 binary)\n",
      "Coefficient statistics:\n",
      "  Matrix range     [1e+00, 4e+03]\n",
      "  Objective range  [3e-02, 6e+02]\n",
      "  Bounds range     [0e+00, 0e+00]\n",
      "  RHS range        [2e+01, 4e+03]\n",
      "Found heuristic solution: objective 10803.506250\n",
      "Presolve removed 160 rows and 213 columns\n",
      "Presolve time: 0.00s\n",
      "Presolved: 957 rows, 1137 columns, 3764 nonzeros\n",
      "Variable types: 273 continuous, 864 integer (864 binary)\n",
      "\n",
      "Root relaxation: objective 2.649403e+03, 819 iterations, 0.01 seconds (0.01 work units)\n",
      "\n",
      "    Nodes    |    Current Node    |     Objective Bounds      |     Work\n",
      " Expl Unexpl |  Obj  Depth IntInf | Incumbent    BestBd   Gap | It/Node Time\n",
      "\n",
      "     0     0 2649.40295    0   88 10803.5063 2649.40295  75.5%     -    0s\n",
      "H    0     0                    10007.147500 2649.40295  73.5%     -    0s\n",
      "H    0     0                    8345.7900000 2649.40295  68.3%     -    0s\n",
      "     0     0 2944.65713    0   85 8345.79000 2944.65713  64.7%     -    0s\n",
      "H    0     0                    7860.9225000 2944.65713  62.5%     -    0s\n",
      "H    0     0                    7623.1587500 3081.14563  59.6%     -    0s\n",
      "     0     0 3083.07374    0   68 7623.15875 3083.07374  59.6%     -    0s\n",
      "     0     0 3335.92833    0  136 7623.15875 3335.92833  56.2%     -    0s\n",
      "     0     0 3347.07584    0  107 7623.15875 3347.07584  56.1%     -    0s\n",
      "     0     0 3349.04756    0  110 7623.15875 3349.04756  56.1%     -    0s\n",
      "     0     0 3349.04756    0  119 7623.15875 3349.04756  56.1%     -    0s\n",
      "     0     0 3349.04756    0  119 7623.15875 3349.04756  56.1%     -    0s\n",
      "     0     0 3512.06934    0  144 7623.15875 3512.06934  53.9%     -    0s\n",
      "H    0     0                    7051.7675000 3524.54999  50.0%     -    0s\n",
      "     0     0 3524.54999    0  148 7051.76750 3524.54999  50.0%     -    0s\n",
      "     0     0 3525.38724    0  158 7051.76750 3525.38724  50.0%     -    0s\n",
      "     0     0 3526.03595    0  154 7051.76750 3526.03595  50.0%     -    0s\n",
      "     0     0 3526.05813    0  161 7051.76750 3526.05813  50.0%     -    0s\n",
      "H    0     0                    6494.3925000 3526.05813  45.7%     -    0s\n",
      "H    0     0                    5534.0775000 3526.05813  36.3%     -    0s\n",
      "H    0     0                    5532.9225000 3526.05813  36.3%     -    0s\n",
      "     0     0 3762.20811    0  121 5532.92250 3762.20811  32.0%     -    0s\n",
      "     0     0 3879.18062    0  172 5532.92250 3879.18062  29.9%     -    0s\n",
      "     0     0 3883.70976    0  182 5532.92250 3883.70976  29.8%     -    0s\n",
      "     0     0 3887.92091    0  174 5532.92250 3887.92091  29.7%     -    0s\n",
      "H    0     0                    5531.1525000 3888.39590  29.7%     -    0s\n",
      "     0     0 3888.39590    0  174 5531.15250 3888.39590  29.7%     -    0s\n",
      "H    0     0                    5461.9975000 4040.52706  26.0%     -    0s\n",
      "     0     0 4040.52706    0  205 5461.99750 4040.52706  26.0%     -    0s\n",
      "H    0     0                    5193.9975000 4118.16210  20.7%     -    0s\n",
      "     0     0 4118.16210    0  179 5193.99750 4118.16210  20.7%     -    0s\n",
      "H    0     0                    4951.1325000 4124.95945  16.7%     -    0s\n",
      "     0     0 4124.95945    0  186 4951.13250 4124.95945  16.7%     -    0s\n",
      "     0     0 4166.13296    0  179 4951.13250 4166.13296  15.9%     -    0s\n",
      "     0     0 4170.52409    0  228 4951.13250 4170.52409  15.8%     -    0s\n",
      "     0     0 4172.95241    0  231 4951.13250 4172.95241  15.7%     -    0s\n",
      "     0     0 4173.85608    0  230 4951.13250 4173.85608  15.7%     -    0s\n",
      "     0     0 4174.47114    0  230 4951.13250 4174.47114  15.7%     -    0s\n",
      "H    0     0                    4879.1325000 4206.32565  13.8%     -    0s\n",
      "     0     0 4206.32565    0  207 4879.13250 4206.32565  13.8%     -    0s\n",
      "     0     0 4209.85633    0  155 4879.13250 4209.85633  13.7%     -    0s\n",
      "     0     0 4212.24575    0  163 4879.13250 4212.24575  13.7%     -    0s\n",
      "     0     0 4212.75327    0  164 4879.13250 4212.75327  13.7%     -    0s\n",
      "     0     0 4213.20657    0  108 4879.13250 4213.20657  13.6%     -    0s\n",
      "     0     0 4213.66895    0  109 4879.13250 4213.66895  13.6%     -    0s\n",
      "     0     0 4213.66895    0  100 4879.13250 4213.66895  13.6%     -    0s\n",
      "     0     0 4213.66895    0   57 4879.13250 4213.66895  13.6%     -    0s\n",
      "H    0     0                    4806.5100000 4213.66895  12.3%     -    0s\n",
      "H    0     0                    4571.9125000 4259.56174  6.83%     -    0s\n",
      "     0     2 4259.56174    0   57 4571.91250 4259.56174  6.83%     -    0s\n",
      "H  120    90                    4571.0700000 4293.15651  6.08%  70.5    0s\n",
      "H  123    90                    4565.0700000 4293.15651  5.96%  70.9    0s\n",
      "H  303   141                    4481.5700000 4304.28468  3.96%  53.0    0s\n",
      "\n",
      "Cutting planes:\n",
      "  Learned: 46\n",
      "  Gomory: 3\n",
      "  Cover: 15\n",
      "  Implied bound: 11\n",
      "  Clique: 14\n",
      "  MIR: 146\n",
      "  StrongCG: 4\n",
      "  Flow cover: 78\n",
      "  Flow path: 61\n",
      "  Inf proof: 1\n",
      "  Network: 1\n",
      "  RLT: 12\n",
      "  Relax-and-lift: 3\n",
      "  PSD: 4\n",
      "\n",
      "Explored 678 nodes (32117 simplex iterations) in 0.92 seconds (1.11 work units)\n",
      "Thread count was 8 (of 8 available processors)\n",
      "\n",
      "Solution count 10: 4481.57 4565.07 4571.07 ... 5531.15\n",
      "\n",
      "Optimal solution found (tolerance 1.00e-04)\n",
      "Best objective 4.481570000000e+03, best bound 4.481570000000e+03, gap 0.0000%\n",
      "\n",
      "User-callback calls 2048, time in user-callback 0.00 sec\n"
     ]
    }
   ],
   "source": [
    "#------\n",
    "# SOLVE\n",
    "#------\n",
    "\n",
    "optimize!(model)"
   ]
  },
  {
   "cell_type": "code",
   "execution_count": 11,
   "id": "b0177703",
   "metadata": {},
   "outputs": [
    {
     "name": "stdout",
     "output_type": "stream",
     "text": [
      "-----\n",
      "Day1\n",
      "Truck 1: \n",
      " 1->6  6->1 \n",
      "Truck 2: \n",
      "--NO ROUTE--\n",
      "Truck 3: \n",
      " 1->2  2->3  3->5  4->1  5->4 \n",
      "-----\n",
      "Day2\n",
      "Truck 1: \n",
      "--NO ROUTE--\n",
      "Truck 2: \n",
      "--NO ROUTE--\n",
      "Truck 3: \n",
      "--NO ROUTE--\n",
      "-----\n",
      "Day3\n",
      "Truck 1: \n",
      "--NO ROUTE--\n",
      "Truck 2: \n",
      " 1->4  4->5  5->6  6->1 \n",
      "Truck 3: \n",
      "--NO ROUTE--\n",
      "-----\n",
      "Day4\n",
      "Truck 1: \n",
      "--NO ROUTE--\n",
      "Truck 2: \n",
      "--NO ROUTE--\n",
      "Truck 3: \n",
      "--NO ROUTE--\n",
      "-----\n",
      "Day5\n",
      "Truck 1: \n",
      "--NO ROUTE--\n",
      "Truck 2: \n",
      "--NO ROUTE--\n",
      "Truck 3: \n",
      "--NO ROUTE--\n",
      "-----\n",
      "Day6\n",
      "Truck 1: \n",
      " 1->4  2->1  3->2  4->5  5->3 \n",
      "Truck 2: \n",
      "--NO ROUTE--\n",
      "Truck 3: \n",
      "--NO ROUTE--\n",
      "-----\n",
      "Day7\n",
      "Truck 1: \n",
      "--NO ROUTE--\n",
      "Truck 2: \n",
      "--NO ROUTE--\n",
      "Truck 3: \n",
      "--NO ROUTE--\n",
      "-----\n",
      "Day8\n",
      "Truck 1: \n",
      "--NO ROUTE--\n",
      "Truck 2: \n",
      "--NO ROUTE--\n",
      "Truck 3: \n",
      "--NO ROUTE--\n"
     ]
    }
   ],
   "source": [
    "for t = 1:T\n",
    "    println(\"-----\")\n",
    "    println(\"Day\", t)\n",
    "\n",
    "    for k = 1:K\n",
    "        has_route = false;\n",
    "        println(\"Truck \", k, \": \")\n",
    "        \n",
    "        for i = 1:N\n",
    "            for j = 1:N\n",
    "                if (value(x[i,j,k,t]) >= 0.9999)\n",
    "                    if i != j\n",
    "                        print(\" \",i,\"->\",j,\" \")\n",
    "                        has_route = true;\n",
    "                    end\n",
    "                end\n",
    "                \n",
    "            end\n",
    "        end\n",
    "        print(\"\")\n",
    "        if has_route\n",
    "            print(\"\");\n",
    "        else\n",
    "            print(\"--NO ROUTE--\")\n",
    "        end\n",
    "        println(\"\")\n",
    "    end    \n",
    "end"
   ]
  },
  {
   "cell_type": "code",
   "execution_count": 12,
   "id": "4a062086",
   "metadata": {},
   "outputs": [
    {
     "name": "stdout",
     "output_type": "stream",
     "text": [
      "Optimal solution:\n",
      "Objective function = 4481.57\n"
     ]
    }
   ],
   "source": [
    "# Printing the optimal solution \n",
    "\n",
    "if termination_status(model) == MOI.OPTIMAL\n",
    "   println(\"Optimal solution:\")\n",
    "   println(\"Objective function = $(objective_value(model))\")\n",
    "else\n",
    "   println(\"No solution found\")\n",
    "end"
   ]
  },
  {
   "cell_type": "markdown",
   "id": "4686befd",
   "metadata": {},
   "source": [
    "## <b>Q2.</b> Build a simulation in Julia to estimate if the fill rate target can be met. Report on the fill rates for the different DCs over the different days. Below is some code to help you get started. The situation is simulated 10000 times and each time actual demands are generated using the demand distribution for salmon (given by the matrices d and std). The amount delivered to each DC on each day is obtained from the solution of the model from (1)above.\n",
    "\n",
    "Hint: If your simulation works correctly (and you use the same random seed and number of iterations as\n",
    "above), the probability of meeting 95% of demand for DC 5 on day 8 should be 0.5551 (thus not meeting the\n",
    "target).\n"
   ]
  },
  {
   "cell_type": "code",
   "execution_count": 13,
   "id": "593fa344",
   "metadata": {},
   "outputs": [
    {
     "name": "stdout",
     "output_type": "stream",
     "text": [
      "For the DC= 2\n",
      "On day 1 the fill rate was:1.0\n",
      "On day 2 the fill rate was:1.0\n",
      "On day 3 the fill rate was:1.0\n",
      "On day 4 the fill rate was:1.0\n",
      "On day 5 the fill rate was:1.0\n",
      "On day 6 the fill rate was:1.0\n",
      "On day 7 the fill rate was:1.0\n",
      "On day 8 the fill rate was:1.0\n",
      "For the DC= 3\n",
      "On day 1 the fill rate was:1.0\n",
      "On day 2 the fill rate was:1.0\n",
      "On day 3 the fill rate was:1.0\n",
      "On day 4 the fill rate was:1.0\n",
      "On day 5 the fill rate was:1.0\n",
      "On day 6 the fill rate was:1.0\n",
      "On day 7 the fill rate was:1.0\n",
      "On day 8 the fill rate was:1.0\n",
      "For the DC= 4\n",
      "On day 1 the fill rate was:1.0\n",
      "On day 2 the fill rate was:1.0\n",
      "On day 3 the fill rate was:1.0\n",
      "On day 4 the fill rate was:1.0\n",
      "On day 5 the fill rate was:1.0\n",
      "On day 6 the fill rate was:1.0\n",
      "On day 7 the fill rate was:1.0\n",
      "On day 8 the fill rate was:1.0\n",
      "For the DC= 5\n",
      "On day 1 the fill rate was:1.0\n",
      "On day 2 the fill rate was:1.0\n",
      "On day 3 the fill rate was:1.0\n",
      "On day 4 the fill rate was:1.0\n",
      "On day 5 the fill rate was:1.0\n",
      "On day 6 the fill rate was:1.0\n",
      "On day 7 the fill rate was:1.0\n",
      "On day 8 the fill rate was:1.0\n",
      "For the DC= 6\n",
      "On day 1 the fill rate was:1.0\n",
      "On day 2 the fill rate was:1.0\n",
      "On day 3 the fill rate was:1.0\n",
      "On day 4 the fill rate was:1.0\n",
      "On day 5 the fill rate was:1.0\n",
      "On day 6 the fill rate was:1.0\n",
      "On day 7 the fill rate was:1.0\n",
      "On day 8 the fill rate was:1.0\n"
     ]
    }
   ],
   "source": [
    "# Finding the fill ratio\n",
    "\n",
    "for i=2:N\n",
    "    println(\"For the DC= \",i )\n",
    "    for t=1:T \n",
    "        println(\"On day \",t,\" the fill rate was:\",(max(value(d[i,t])+min(value(I[i,t]),0),0))/value(d[i,t]))\n",
    "    end\n",
    "end"
   ]
  },
  {
   "cell_type": "code",
   "execution_count": 14,
   "id": "57c745a4",
   "metadata": {},
   "outputs": [],
   "source": [
    "# Random.seed!(0);\n",
    "Fullness=zeros(6,8)\n",
    "for r = 1:10000\n",
    "    actual_demand = d + randn(6,8).*std;\n",
    "    for i=1:N\n",
    "        I_1=I_0[i];\n",
    "        for t=1:T\n",
    "            #fillrate=0;\n",
    "            delivered=0;\n",
    "            for k=1:K\n",
    "                delivered = delivered + value(q[i,k,t]);\n",
    "            end\n",
    "            I_1=I_1+delivered-value(actual_demand[i,t]);\n",
    "            fillrate=(max(value(actual_demand[i,t])+min(I_1,0),0))/value(actual_demand[i,t]);\n",
    "            if fillrate>=0.95\n",
    "                Fullness[i,t]=Fullness[i,t] + 1\n",
    "            end\n",
    "        end\n",
    "    end\n",
    "end"
   ]
  },
  {
   "cell_type": "code",
   "execution_count": 15,
   "id": "7111ebe5",
   "metadata": {
    "scrolled": true
   },
   "outputs": [
    {
     "name": "stdout",
     "output_type": "stream",
     "text": [
      "The fill ratio of each DC per day can be shonwn in the matrix below:\n"
     ]
    },
    {
     "data": {
      "text/plain": [
       "6×8 Matrix{Float64}:\n",
       " 0.0  0.0     0.0  0.0     0.0     0.0     0.0     0.0\n",
       " 1.0  1.0     1.0  0.9999  0.5563  1.0     0.9916  0.5405\n",
       " 1.0  1.0     1.0  1.0     0.5608  0.9991  0.9676  0.5245\n",
       " 1.0  0.5911  1.0  0.9994  0.5526  1.0     0.9892  0.5365\n",
       " 1.0  0.6526  1.0  1.0     0.6282  1.0     0.9957  0.5419\n",
       " 1.0  1.0     1.0  1.0     1.0     1.0     0.9996  0.5557"
      ]
     },
     "execution_count": 15,
     "metadata": {},
     "output_type": "execute_result"
    }
   ],
   "source": [
    "print(\"The fill ratio of each DC per day can be shonwn in the matrix below:\\n\")\n",
    "Fullness/10000"
   ]
  },
  {
   "cell_type": "markdown",
   "id": "3c5a4b56",
   "metadata": {},
   "source": [
    "## <b>Q3.</b> In case both storage and truck capacity is inflated 10 times, you should notice from your analysis above that the fill rate target can be met using a much smaller safety factor. Use what you have learned in this course to explain why this is the case.<br>\n",
    "<br>Hint: Look at the difference in the optimal routes used in the solution with the given capacities compared to\n",
    "the solution when capacities are inflated.\n"
   ]
  },
  {
   "cell_type": "code",
   "execution_count": 16,
   "id": "d3b98a37",
   "metadata": {},
   "outputs": [],
   "source": [
    "a=0.98\n",
    "za=quantile.(Normal(0,1),a)\n",
    "d_1 = d + za.*std;"
   ]
  },
  {
   "cell_type": "code",
   "execution_count": 17,
   "id": "01377bde",
   "metadata": {},
   "outputs": [
    {
     "name": "stdout",
     "output_type": "stream",
     "text": [
      "Set parameter Username\n",
      "Academic license - for non-commercial use only - expires 2022-06-30\n"
     ]
    }
   ],
   "source": [
    "#------\n",
    "# MODEL\n",
    "#------\n",
    "\n",
    "model = Model(Gurobi.Optimizer);\n",
    "\n",
    "@variable(model, I[1:N,0:T] >= 0)          # Inventory level per period\n",
    "@variable(model, q[1:N,1:K,1:T] >= 0)      # Quantity delivered to customer i by vehicle k at start of period T \n",
    "@variable(model, x[1:N,1:N,1:K,1:T], Bin); # Truck k leaves DCi and goes TO DCj\n",
    "@variable(model, y[1:N,1:K,1:T], Bin);     # Truck k arrives at DCi\n",
    "@variable(model, z[1:N,1:K,1:T] >= 0);     # Load of truck k when arriving at node i\n",
    "\n",
    "@objective(model, Min, sum(sum(h*I[i,t]  for i in 2:N) for t in 1:T) #check\n",
    "                      +sum(sum(sum(sum( c[i,j]*x[i,j,k,t] for i in 1:N) for j in 1:N) for k = 1:K) for t in 1:T)); \n",
    "\n",
    "\n",
    "\n",
    "# Multi - period VRP model constrains\n",
    "@constraint(model,[v = 1:N, k = 1:K,t = 1:T], sum(i == v ? 0 : x[i,v,k,t] for i = 1:N) == y[v,k,t]); #!\n",
    "@constraint(model,[v = 1:N, k = 1:K,t = 1:T], sum(j == v ? 0 : x[v,j,k,t] for j = 1:N) == y[v,k,t]); #!\n",
    "\n",
    "# Subtour elimination constrains    \n",
    "@constraint(model,[i = 2:N, j = 2:N, k = 1:K,t = 1:T], z[i,k,t] - d_1[i,t] >= z[j,k,t] - (1-x[i,j,k,t])*sum(d_1)); # Load Constrains logic (i=j=2 substrack depot)\n",
    "\n",
    "#Inventory Constrains #!!\n",
    "@constraint(model, [i = 2:N], I[i,0] == I_0[i])    \n",
    "@constraint(model, [i = 2:N,t = 1:T], I[i,t-1] + sum(q[i,k,t] for k = 1:K) == I[i,t] + d_1[i,t]); \n",
    "@constraint(model, [i = 2:N,t = 1:T], I[i,t-1] + sum(q[i,k,t] for k = 1:K) <= C[i]); \n",
    "\n",
    "# Inventory & VRP constrains\n",
    "@constraint(model,[i=2:N,k=1:K,t=1:T], q[i,k,t] <= C[i]*y[i,k,t]); # Constraint which ensures y is 1 when they receive a quantity    \n",
    "@constraint(model,[k = 1:K,t = 1:T],  sum(q[i,k,t] for i = 2:N) <= D[k]*y[1,k,t]);  # Avoid subtours"
   ]
  },
  {
   "cell_type": "code",
   "execution_count": 18,
   "id": "6de9a081",
   "metadata": {},
   "outputs": [
    {
     "name": "stdout",
     "output_type": "stream",
     "text": [
      "Gurobi Optimizer version 9.5.1 build v9.5.1rc2 (mac64[arm])\n",
      "Thread count: 8 physical cores, 8 logical processors, using up to 8 threads\n",
      "Optimize a model with 1117 rows, 1350 columns and 4037 nonzeros\n",
      "Model fingerprint: 0x9353f38d\n",
      "Variable types: 342 continuous, 1008 integer (1008 binary)\n",
      "Coefficient statistics:\n",
      "  Matrix range     [1e+00, 5e+03]\n",
      "  Objective range  [3e-02, 6e+02]\n",
      "  Bounds range     [0e+00, 0e+00]\n",
      "  RHS range        [2e+01, 5e+03]\n",
      "Presolve removed 160 rows and 212 columns\n",
      "Presolve time: 0.01s\n",
      "Presolved: 957 rows, 1138 columns, 3763 nonzeros\n",
      "Variable types: 274 continuous, 864 integer (864 binary)\n",
      "\n",
      "Root relaxation: objective 3.669626e+03, 646 iterations, 0.00 seconds (0.00 work units)\n",
      "\n",
      "    Nodes    |    Current Node    |     Objective Bounds      |     Work\n",
      " Expl Unexpl |  Obj  Depth IntInf | Incumbent    BestBd   Gap | It/Node Time\n",
      "\n",
      "     0     0 3669.62580    0   93          - 3669.62580      -     -    0s\n",
      "H    0     0                    12136.763039 3669.62580  69.8%     -    0s\n",
      "H    0     0                    11785.763039 3669.62580  68.9%     -    0s\n",
      "H    0     0                    10046.483368 3669.62580  63.5%     -    0s\n",
      "     0     0 3991.17353    0  119 10046.4834 3991.17353  60.3%     -    0s\n",
      "H    0     0                    9752.8642297 4172.41283  57.2%     -    0s\n",
      "H    0     0                    8639.4571087 4172.41283  51.7%     -    0s\n",
      "     0     0 4172.41283    0   86 8639.45711 4172.41283  51.7%     -    0s\n",
      "     0     0 4466.35379    0  116 8639.45711 4466.35379  48.3%     -    0s\n",
      "     0     0 4466.65658    0  131 8639.45711 4466.65658  48.3%     -    0s\n",
      "     0     0 4466.65658    0  128 8639.45711 4466.65658  48.3%     -    0s\n",
      "     0     0 4466.65658    0  125 8639.45711 4466.65658  48.3%     -    0s\n",
      "     0     0 4695.19993    0  131 8639.45711 4695.19993  45.7%     -    0s\n",
      "H    0     0                    8596.8622571 4717.03330  45.1%     -    0s\n",
      "     0     0 4717.03330    0  162 8596.86226 4717.03330  45.1%     -    0s\n",
      "     0     0 4718.50739    0  177 8596.86226 4718.50739  45.1%     -    0s\n",
      "     0     0 4721.28916    0  162 8596.86226 4721.28916  45.1%     -    0s\n",
      "     0     0 4721.88672    0  152 8596.86226 4721.88672  45.1%     -    0s\n",
      "H    0     0                    8594.2166852 4721.88672  45.1%     -    0s\n",
      "H    0     0                    8333.6491765 4721.88672  43.3%     -    0s\n",
      "     0     0 5074.08515    0  158 8333.64918 5074.08515  39.1%     -    0s\n",
      "H    0     0                    7735.1110964 5170.86260  33.2%     -    0s\n",
      "     0     0 5170.86260    0  204 7735.11110 5170.86260  33.2%     -    0s\n",
      "     0     0 5324.21678    0  156 7735.11110 5324.21678  31.2%     -    0s\n",
      "     0     0 5346.18737    0  153 7735.11110 5346.18737  30.9%     -    0s\n",
      "     0     0 5350.56259    0  159 7735.11110 5350.56259  30.8%     -    0s\n",
      "     0     0 5350.61574    0  174 7735.11110 5350.61574  30.8%     -    0s\n",
      "H    0     0                    7581.1110964 5459.05709  28.0%     -    0s\n",
      "     0     0 5459.05709    0  122 7581.11110 5459.05709  28.0%     -    0s\n",
      "H    0     0                    7339.8004259 5499.29083  25.1%     -    0s\n",
      "     0     0 5499.29083    0   82 7339.80043 5499.29083  25.1%     -    0s\n",
      "     0     0 5499.79549    0  105 7339.80043 5499.79549  25.1%     -    0s\n",
      "     0     0 5518.79652    0  153 7339.80043 5518.79652  24.8%     -    0s\n",
      "     0     0 5520.06004    0  147 7339.80043 5520.06004  24.8%     -    0s\n",
      "     0     0 5521.03330    0  171 7339.80043 5521.03330  24.8%     -    0s\n",
      "     0     0 5537.01989    0  174 7339.80043 5537.01989  24.6%     -    0s\n",
      "     0     0 5540.81101    0  176 7339.80043 5540.81101  24.5%     -    0s\n",
      "     0     0 5540.81517    0  148 7339.80043 5540.81517  24.5%     -    0s\n",
      "     0     0 5540.99444    0  156 7339.80043 5540.99444  24.5%     -    0s\n",
      "     0     0 5541.25039    0  169 7339.80043 5541.25039  24.5%     -    0s\n",
      "     0     0 5541.89811    0  173 7339.80043 5541.89811  24.5%     -    0s\n",
      "     0     0 5541.89811    0  117 7339.80043 5541.89811  24.5%     -    0s\n",
      "H    0     0                    7080.2069352 5541.89811  21.7%     -    0s\n",
      "H    0     0                    7073.1094578 5554.29812  21.5%     -    0s\n",
      "     0     2 5554.29812    0  116 7073.10946 5554.29812  21.5%     -    0s\n",
      "H   32    40                    6963.6532932 5603.03019  19.5%   121    0s\n",
      "H   35    40                    5896.9288117 5603.03019  4.98%   122    0s\n",
      "H  118    75                    5847.1288117 5603.03019  4.17%  82.1    0s\n",
      "H  121    75                    5783.8066760 5603.03019  3.13%  81.4    0s\n",
      "H  341   158                    5777.8066760 5603.03019  3.02%  46.0    0s\n",
      "\n",
      "Cutting planes:\n",
      "  Learned: 48\n",
      "  Gomory: 1\n",
      "  Cover: 23\n",
      "  Implied bound: 10\n",
      "  Clique: 13\n",
      "  MIR: 156\n",
      "  StrongCG: 3\n",
      "  Flow cover: 77\n",
      "  Flow path: 31\n",
      "  Inf proof: 3\n",
      "  Zero half: 1\n",
      "  Mod-K: 1\n",
      "  Network: 2\n",
      "  RLT: 14\n",
      "  Relax-and-lift: 2\n",
      "\n",
      "Explored 2484 nodes (72214 simplex iterations) in 1.14 seconds (1.48 work units)\n",
      "Thread count was 8 (of 8 available processors)\n",
      "\n",
      "Solution count 10: 5777.81 5783.81 5847.13 ... 7735.11\n",
      "\n",
      "Optimal solution found (tolerance 1.00e-04)\n",
      "Best objective 5.777806675994e+03, best bound 5.777806675994e+03, gap 0.0000%\n",
      "\n",
      "User-callback calls 5754, time in user-callback 0.00 sec\n"
     ]
    }
   ],
   "source": [
    "#------\n",
    "# SOLVE\n",
    "#------\n",
    "\n",
    "optimize!(model)"
   ]
  },
  {
   "cell_type": "code",
   "execution_count": 19,
   "id": "bed07b0d",
   "metadata": {},
   "outputs": [
    {
     "name": "stdout",
     "output_type": "stream",
     "text": [
      "Optimal solution:\n",
      "Objective function = 5777.806675993788\n"
     ]
    }
   ],
   "source": [
    "# Printing the optimal solution \n",
    "\n",
    "if termination_status(model) == MOI.OPTIMAL\n",
    "   println(\"Optimal solution:\")\n",
    "   println(\"Objective function = $(objective_value(model))\")\n",
    "else\n",
    "   println(\"No solution found\")\n",
    "end"
   ]
  },
  {
   "cell_type": "code",
   "execution_count": 20,
   "id": "9de2972d",
   "metadata": {},
   "outputs": [],
   "source": [
    "# Random.seed!(0);\n",
    "Fullness=zeros(6,8)\n",
    "for r = 1:10000\n",
    "    actual_demand = d + randn(6,8).*std;\n",
    "    for i=1:N\n",
    "        I_1=I_0[i];\n",
    "        for t=1:T\n",
    "            #fillrate=0;\n",
    "            delivered=0;\n",
    "            for k=1:K\n",
    "                delivered = delivered + value(q[i,k,t]);\n",
    "            end\n",
    "            I_1=I_1+delivered-value(actual_demand[i,t]);\n",
    "            fillrate=(max(value(actual_demand[i,t])+min(I_1,0),0))/value(actual_demand[i,t]);\n",
    "            if fillrate>=0.95\n",
    "                Fullness[i,t]=Fullness[i,t] + 1\n",
    "            end\n",
    "        end\n",
    "    end\n",
    "end"
   ]
  },
  {
   "cell_type": "code",
   "execution_count": 21,
   "id": "baedbb47",
   "metadata": {},
   "outputs": [
    {
     "name": "stdout",
     "output_type": "stream",
     "text": [
      "The fill ratio of each DC per day can be shonwn in the matrix below:\n"
     ]
    },
    {
     "data": {
      "text/plain": [
       "6×8 Matrix{Float64}:\n",
       " 0.0  0.0     0.0  0.0  0.0  0.0  0.0     0.0\n",
       " 1.0  1.0     1.0  1.0  1.0  1.0  1.0     1.0\n",
       " 1.0  1.0     1.0  1.0  1.0  1.0  0.9993  1.0\n",
       " 1.0  0.9996  1.0  1.0  1.0  1.0  1.0     1.0\n",
       " 1.0  1.0     1.0  1.0  1.0  1.0  1.0     1.0\n",
       " 1.0  1.0     1.0  1.0  1.0  1.0  1.0     1.0"
      ]
     },
     "execution_count": 21,
     "metadata": {},
     "output_type": "execute_result"
    }
   ],
   "source": [
    "print(\"The fill ratio of each DC per day can be shonwn in the matrix below:\\n\")\n",
    "Fullness/10000"
   ]
  },
  {
   "cell_type": "markdown",
   "id": "8121f2a7",
   "metadata": {},
   "source": [
    "---------------------------------------------------------------------------------------------------------------------------------------"
   ]
  },
  {
   "cell_type": "markdown",
   "id": "8e141b30",
   "metadata": {},
   "source": [
    "# Part III: Capacity analysis\n"
   ]
  },
  {
   "cell_type": "markdown",
   "id": "f12839fc",
   "metadata": {},
   "source": [
    "## <b>Q1.</b> Analyze the capacity utilization of your solution from Part II. Calculate the % of storage capacity utilized at each DC on each day, and calculate the % of truck capacity utilized at the start of each trip. Based on this analysis, which capacity (storage or truck) seems to be the bottleneck?"
   ]
  },
  {
   "cell_type": "code",
   "execution_count": 22,
   "id": "82e8c1c3",
   "metadata": {},
   "outputs": [
    {
     "ename": "LoadError",
     "evalue": "syntax: extra token \"matrix\" after end of expression",
     "output_type": "error",
     "traceback": [
      "syntax: extra token \"matrix\" after end of expression",
      "",
      "Stacktrace:",
      " [1] top-level scope",
      "   @ In[22]:2",
      " [2] eval",
      "   @ ./boot.jl:373 [inlined]",
      " [3] include_string(mapexpr::typeof(REPL.softscope), mod::Module, code::String, filename::String)",
      "   @ Base ./loading.jl:1196"
     ]
    }
   ],
   "source": [
    "#We created a mew matrix to calculate  the capacity of each dc and day \n",
    "create matrix for capacity of each dc to each day\n",
    "one = ones(6,8);\n",
    "capacity = transpose(C) .* one;\n",
    "\n",
    "inventory = value.(I[6,8] + d_1[6,8]);\n",
    "inventory ./ capacity .*100"
   ]
  },
  {
   "cell_type": "code",
   "execution_count": 23,
   "id": "a1526373",
   "metadata": {},
   "outputs": [
    {
     "data": {
      "text/plain": [
       "3×8 Matrix{Float64}:\n",
       "   0.0  0.0   0.0    0.0  100.0  0.0  68.8219  0.0\n",
       "  44.8  0.0  55.254  0.0    0.0  0.0   0.0     0.0\n",
       " 100.0  0.0   0.0    0.0    0.0  0.0   0.0     0.0"
      ]
     },
     "execution_count": 23,
     "metadata": {},
     "output_type": "execute_result"
    }
   ],
   "source": [
    "# % of each truck capacity utilized on each day, DC x day\n",
    "truck_delivered = value.(sum(q[i,1:3,1:8] for i in 1:5))\n",
    "truck_utility = truck_delivered/900 .*100"
   ]
  },
  {
   "cell_type": "markdown",
   "id": "ddbf29d7",
   "metadata": {},
   "source": [
    "## <b>Q2.</b> Consider three alternative capacity scenarios:"
   ]
  },
  {
   "cell_type": "markdown",
   "id": "98ca1645",
   "metadata": {},
   "source": [
    "### (a) Truck capacity is 10 times more than in the current situation"
   ]
  },
  {
   "cell_type": "code",
   "execution_count": 24,
   "id": "fcc8dc47",
   "metadata": {},
   "outputs": [
    {
     "data": {
      "text/plain": [
       "1×3 Matrix{Int64}:\n",
       " 9000  9000  9000"
      ]
     },
     "execution_count": 24,
     "metadata": {},
     "output_type": "execute_result"
    }
   ],
   "source": [
    "D_1=10*D\n"
   ]
  },
  {
   "cell_type": "code",
   "execution_count": 25,
   "id": "3468c695",
   "metadata": {},
   "outputs": [
    {
     "name": "stdout",
     "output_type": "stream",
     "text": [
      "Set parameter Username\n",
      "Academic license - for non-commercial use only - expires 2022-06-30\n"
     ]
    }
   ],
   "source": [
    "#------\n",
    "# MODEL\n",
    "#------\n",
    "\n",
    "model = Model(Gurobi.Optimizer);\n",
    "\n",
    "@variable(model, I[1:N,0:T] >= 0)          # Inventory level per period\n",
    "@variable(model, q[1:N,1:K,1:T] >= 0)      # Quantity delivered to customer i by vehicle k at start of period T \n",
    "@variable(model, x[1:N,1:N,1:K,1:T], Bin); # Truck k leaves DCi and goes TO DCj\n",
    "@variable(model, y[1:N,1:K,1:T], Bin);     # Truck k arrives at DCi\n",
    "@variable(model, z[1:N,1:K,1:T] >= 0);     # Load of truck k when arriving at node i\n",
    "\n",
    "@objective(model, Min, sum(sum(h*I[i,t]  for i in 2:N) for t in 1:T) #check\n",
    "                      +sum(sum(sum(sum( c[i,j]*x[i,j,k,t] for i in 1:N) for j in 1:N) for k = 1:K) for t in 1:T)); \n",
    "\n",
    "\n",
    "\n",
    "# Multi - period VRP model constrains\n",
    "@constraint(model,[v = 1:N, k = 1:K,t = 1:T], sum(i == v ? 0 : x[i,v,k,t] for i = 1:N) == y[v,k,t]); #!\n",
    "@constraint(model,[v = 1:N, k = 1:K,t = 1:T], sum(j == v ? 0 : x[v,j,k,t] for j = 1:N) == y[v,k,t]); #!\n",
    "\n",
    "# Subtour elimination constrains    \n",
    "@constraint(model,[i = 2:N, j = 2:N, k = 1:K,t = 1:T], z[i,k,t] - d[i,t] >= z[j,k,t] - (1-x[i,j,k,t])*sum(d)); # Load Constrains logic (i=j=2 substrack depot)\n",
    "\n",
    "#Inventory Constrains #!!\n",
    "@constraint(model, [i = 2:N], I[i,0] == I_0[i])    \n",
    "@constraint(model, [i = 2:N,t = 1:T], I[i,t-1] + sum(q[i,k,t] for k = 1:K) == I[i,t] + d[i,t]); \n",
    "@constraint(model, [i = 2:N,t = 1:T], I[i,t-1] + sum(q[i,k,t] for k = 1:K) <= C[i]); \n",
    "\n",
    "# Inventory & VRP constrains\n",
    "@constraint(model,[i=2:N,k=1:K,t=1:T], q[i,k,t] <= C[i]*y[i,k,t]); # Constraint which ensures y is 1 when they receive a quantity    \n",
    "@constraint(model,[k = 1:K,t = 1:T],  sum(q[i,k,t] for i = 2:N) <= D_1[k]*y[1,k,t]);# Avoid subtours"
   ]
  },
  {
   "cell_type": "code",
   "execution_count": 26,
   "id": "813e051e",
   "metadata": {},
   "outputs": [
    {
     "name": "stdout",
     "output_type": "stream",
     "text": [
      "Gurobi Optimizer version 9.5.1 build v9.5.1rc2 (mac64[arm])\n",
      "Thread count: 8 physical cores, 8 logical processors, using up to 8 threads\n",
      "Optimize a model with 1117 rows, 1350 columns and 4037 nonzeros\n",
      "Model fingerprint: 0x3e6cae4c\n",
      "Variable types: 342 continuous, 1008 integer (1008 binary)\n",
      "Coefficient statistics:\n",
      "  Matrix range     [1e+00, 9e+03]\n",
      "  Objective range  [3e-02, 6e+02]\n",
      "  Bounds range     [0e+00, 0e+00]\n",
      "  RHS range        [2e+01, 4e+03]\n",
      "Found heuristic solution: objective 10822.523750\n",
      "Presolve removed 160 rows and 213 columns\n",
      "Presolve time: 0.01s\n",
      "Presolved: 957 rows, 1137 columns, 3764 nonzeros\n",
      "Variable types: 273 continuous, 864 integer (864 binary)\n",
      "\n",
      "Root relaxation: objective 2.095202e+03, 695 iterations, 0.01 seconds (0.01 work units)\n",
      "\n",
      "    Nodes    |    Current Node    |     Objective Bounds      |     Work\n",
      " Expl Unexpl |  Obj  Depth IntInf | Incumbent    BestBd   Gap | It/Node Time\n",
      "\n",
      "     0     0 2095.20175    0   95 10822.5238 2095.20175  80.6%     -    0s\n",
      "H    0     0                    10042.996250 2095.20175  79.1%     -    0s\n",
      "H    0     0                    7871.5575000 2095.20175  73.4%     -    0s\n",
      "     0     0 2438.35419    0   93 7871.55750 2438.35419  69.0%     -    0s\n",
      "H    0     0                    7852.4925000 2508.13341  68.1%     -    0s\n",
      "H    0     0                    7286.9675000 2508.13341  65.6%     -    0s\n",
      "     0     0 2508.13341    0   78 7286.96750 2508.13341  65.6%     -    0s\n",
      "     0     0 2711.94169    0  103 7286.96750 2711.94169  62.8%     -    0s\n",
      "H    0     0                    7198.4925000 2876.89804  60.0%     -    0s\n",
      "     0     0 2876.89804    0   99 7198.49250 2876.89804  60.0%     -    0s\n",
      "     0     0 2907.35621    0   95 7198.49250 2907.35621  59.6%     -    0s\n",
      "     0     0 2912.14686    0  117 7198.49250 2912.14686  59.5%     -    0s\n",
      "     0     0 2913.24875    0  112 7198.49250 2913.24875  59.5%     -    0s\n",
      "     0     0 2916.28625    0  109 7198.49250 2916.28625  59.5%     -    0s\n",
      "     0     0 2916.28625    0  113 7198.49250 2916.28625  59.5%     -    0s\n",
      "     0     0 2916.31738    0  108 7198.49250 2916.31738  59.5%     -    0s\n",
      "H    0     0                    7191.2162500 3181.97654  55.8%     -    0s\n",
      "     0     0 3181.97654    0  126 7191.21625 3181.97654  55.8%     -    0s\n",
      "H    0     0                    6634.3362500 3181.97654  52.0%     -    0s\n",
      "H    0     0                    6485.6550000 3236.15337  50.1%     -    0s\n",
      "     0     0 3236.15337    0  101 6485.65500 3236.15337  50.1%     -    0s\n",
      "     0     0 3243.65595    0  111 6485.65500 3243.65595  50.0%     -    0s\n",
      "     0     0 3246.41545    0  117 6485.65500 3246.41545  49.9%     -    0s\n",
      "     0     0 3246.77949    0  122 6485.65500 3246.77949  49.9%     -    0s\n",
      "H    0     0                    6019.9750000 3246.77949  46.1%     -    0s\n",
      "     0     0 3624.54177    0  134 6019.97500 3624.54177  39.8%     -    0s\n",
      "H    0     0                    5157.8400000 3624.54177  29.7%     -    0s\n",
      "     0     0 3672.78383    0  140 5157.84000 3672.78383  28.8%     -    0s\n",
      "     0     0 3728.98477    0  145 5157.84000 3728.98477  27.7%     -    0s\n",
      "     0     0 3738.41571    0  133 5157.84000 3738.41571  27.5%     -    0s\n",
      "     0     0 3748.33960    0  130 5157.84000 3748.33960  27.3%     -    0s\n",
      "     0     0 3750.74627    0  145 5157.84000 3750.74627  27.3%     -    0s\n",
      "     0     0 3758.91237    0  147 5157.84000 3758.91237  27.1%     -    0s\n",
      "     0     0 3758.92307    0  158 5157.84000 3758.92307  27.1%     -    0s\n",
      "H    0     0                    5135.8400000 3758.92307  26.8%     -    0s\n",
      "H    0     0                    4806.4650000 3915.85030  18.5%     -    0s\n",
      "     0     0 3915.85030    0  150 4806.46500 3915.85030  18.5%     -    0s\n",
      "H    0     0                    4733.7900000 3915.85030  17.3%     -    0s\n",
      "     0     0 3940.34899    0  183 4733.79000 3940.34899  16.8%     -    0s\n",
      "     0     0 3945.74406    0  162 4733.79000 3945.74406  16.6%     -    0s\n",
      "     0     0 3947.46027    0  169 4733.79000 3947.46027  16.6%     -    0s\n",
      "     0     0 3948.57452    0  136 4733.79000 3948.57452  16.6%     -    0s\n",
      "     0     0 3949.16836    0  159 4733.79000 3949.16836  16.6%     -    0s\n",
      "H    0     0                    4648.8550000 3988.33642  14.2%     -    0s\n",
      "     0     0 3988.33642    0  207 4648.85500 3988.33642  14.2%     -    0s\n",
      "H    0     0                    4617.9550000 3988.33642  13.6%     -    0s\n",
      "     0     0 4004.54283    0  182 4617.95500 4004.54283  13.3%     -    0s\n",
      "     0     0 4008.91747    0  191 4617.95500 4008.91747  13.2%     -    0s\n",
      "     0     0 4009.79829    0  187 4617.95500 4009.79829  13.2%     -    0s\n",
      "H    0     0                    4533.7900000 4017.53152  11.4%     -    0s\n",
      "     0     0 4017.53152    0  132 4533.79000 4017.53152  11.4%     -    0s\n",
      "     0     0 4018.93638    0  184 4533.79000 4018.93638  11.4%     -    0s\n",
      "     0     0 4019.72680    0  186 4533.79000 4019.72680  11.3%     -    0s\n",
      "     0     0 4028.65168    0  216 4533.79000 4028.65168  11.1%     -    0s\n",
      "H    0     0                    4471.3050000 4028.65168  9.90%     -    0s\n",
      "     0     0 4028.65168    0  207 4471.30500 4028.65168  9.90%     -    0s\n",
      "H    0     0                    4303.3050000 4028.65168  6.38%     -    0s\n",
      "     0     2 4029.09236    0   99 4303.30500 4029.09236  6.37%     -    0s\n",
      "H    4     6                    4292.9150000 4030.74261  6.11%   130    0s\n",
      "*   89    30              14    4288.9750000 4102.03813  4.36%  54.4    0s\n",
      "\n",
      "Cutting planes:\n",
      "  Learned: 45\n",
      "  Gomory: 2\n",
      "  Cover: 10\n",
      "  Implied bound: 12\n",
      "  Clique: 13\n",
      "  MIR: 156\n",
      "  StrongCG: 4\n",
      "  Flow cover: 69\n",
      "  Flow path: 43\n",
      "  Network: 1\n",
      "  RLT: 4\n",
      "\n",
      "Explored 165 nodes (12731 simplex iterations) in 0.55 seconds (0.58 work units)\n",
      "Thread count was 8 (of 8 available processors)\n",
      "\n",
      "Solution count 10: 4288.98 4292.91 4303.3 ... 5135.84\n",
      "\n",
      "Optimal solution found (tolerance 1.00e-04)\n",
      "Best objective 4.288975000000e+03, best bound 4.288975000000e+03, gap 0.0000%\n",
      "\n",
      "User-callback calls 950, time in user-callback 0.00 sec\n"
     ]
    }
   ],
   "source": [
    "#------\n",
    "# SOLVE\n",
    "#------\n",
    "\n",
    "optimize!(model)\n"
   ]
  },
  {
   "cell_type": "code",
   "execution_count": 27,
   "id": "03c2714d",
   "metadata": {},
   "outputs": [
    {
     "name": "stdout",
     "output_type": "stream",
     "text": [
      "Optimal solution:\n",
      "Objective function = 4288.975\n"
     ]
    }
   ],
   "source": [
    "# Printing the optimal solution \n",
    "\n",
    "if termination_status(model) == MOI.OPTIMAL\n",
    "   println(\"Optimal solution:\")\n",
    "   println(\"Objective function = $(objective_value(model))\")\n",
    "else\n",
    "   println(\"No solution found\")\n",
    "end"
   ]
  },
  {
   "cell_type": "code",
   "execution_count": 28,
   "id": "a18bdc26",
   "metadata": {},
   "outputs": [
    {
     "name": "stdout",
     "output_type": "stream",
     "text": [
      "The effect of A scenario on the total cost equals to 192"
     ]
    }
   ],
   "source": [
    "print(\"The effect of A scenario on the total cost equals to \", 4481 - 4289)"
   ]
  },
  {
   "cell_type": "code",
   "execution_count": 29,
   "id": "4227e03e",
   "metadata": {},
   "outputs": [],
   "source": [
    "# Random.seed!(0);\n",
    "Fullness=zeros(6,8)\n",
    "for r = 1:10000\n",
    "    actual_demand = d + randn(6,8).*std;\n",
    "    for i=1:N\n",
    "        I_1=I_0[i];\n",
    "        for t=1:T\n",
    "            #fillrate=0;\n",
    "            delivered=0;\n",
    "            for k=1:K\n",
    "                delivered = delivered + value(q[i,k,t]);\n",
    "            end\n",
    "            I_1=I_1+delivered-value(actual_demand[i,t]);\n",
    "            fillrate=(max(value(actual_demand[i,t])+min(I_1,0),0))/value(actual_demand[i,t]);\n",
    "            if fillrate>=0.95\n",
    "                Fullness[i,t]=Fullness[i,t] + 1\n",
    "            end\n",
    "        end\n",
    "    end\n",
    "end"
   ]
  },
  {
   "cell_type": "code",
   "execution_count": 30,
   "id": "47cb6523",
   "metadata": {},
   "outputs": [
    {
     "name": "stdout",
     "output_type": "stream",
     "text": [
      "The fill ratio of each DC per day can be shonwn in the matrix below:\n"
     ]
    },
    {
     "data": {
      "text/plain": [
       "6×8 Matrix{Float64}:\n",
       " 0.0  0.0  0.0     0.0     0.0     0.0     0.0     0.0\n",
       " 1.0  1.0  1.0     0.9995  0.5555  1.0     0.9908  0.5445\n",
       " 1.0  1.0  1.0     0.9999  0.5717  0.9992  0.9698  0.544\n",
       " 1.0  1.0  0.5673  0.9995  0.5537  1.0     0.9905  0.5357\n",
       " 1.0  1.0  0.6242  1.0     0.5883  1.0     0.996   0.5479\n",
       " 1.0  1.0  0.5995  1.0     1.0     1.0     0.999   0.5538"
      ]
     },
     "execution_count": 30,
     "metadata": {},
     "output_type": "execute_result"
    }
   ],
   "source": [
    "print(\"The fill ratio of each DC per day can be shonwn in the matrix below:\\n\")\n",
    "Fullness/10000"
   ]
  },
  {
   "cell_type": "markdown",
   "id": "05ccb2fa",
   "metadata": {},
   "source": [
    "### (b) Storage capacity is 10 times more than in the current situation"
   ]
  },
  {
   "cell_type": "code",
   "execution_count": 31,
   "id": "6d3ad0af",
   "metadata": {},
   "outputs": [
    {
     "data": {
      "text/plain": [
       "1×6 Matrix{Int64}:\n",
       " 25000  5020  4880  2200  4860  7420"
      ]
     },
     "execution_count": 31,
     "metadata": {},
     "output_type": "execute_result"
    }
   ],
   "source": [
    "C_1 = C*10"
   ]
  },
  {
   "cell_type": "code",
   "execution_count": 32,
   "id": "552935f6",
   "metadata": {},
   "outputs": [
    {
     "name": "stdout",
     "output_type": "stream",
     "text": [
      "Set parameter Username\n",
      "Academic license - for non-commercial use only - expires 2022-06-30\n"
     ]
    }
   ],
   "source": [
    "#------\n",
    "# MODEL\n",
    "#------\n",
    "\n",
    "model = Model(Gurobi.Optimizer);\n",
    "\n",
    "@variable(model, I[1:N,0:T] >= 0)          # Inventory level per period\n",
    "@variable(model, q[1:N,1:K,1:T] >= 0)      # Quantity delivered to customer i by vehicle k at start of period T \n",
    "@variable(model, x[1:N,1:N,1:K,1:T], Bin); # Truck k leaves DCi and goes TO DCj\n",
    "@variable(model, y[1:N,1:K,1:T], Bin);     # Truck k arrives at DCi\n",
    "@variable(model, z[1:N,1:K,1:T] >= 0);     # Load of truck k when arriving at node i\n",
    "\n",
    "@objective(model, Min, sum(sum(h*I[i,t]  for i in 2:N) for t in 1:T) #check\n",
    "                      +sum(sum(sum(sum( c[i,j]*x[i,j,k,t] for i in 1:N) for j in 1:N) for k = 1:K) for t in 1:T)); \n",
    "\n",
    "\n",
    "\n",
    "# Multi - period VRP model constrains\n",
    "@constraint(model,[v = 1:N, k = 1:K,t = 1:T], sum(i == v ? 0 : x[i,v,k,t] for i = 1:N) == y[v,k,t]); #!\n",
    "@constraint(model,[v = 1:N, k = 1:K,t = 1:T], sum(j == v ? 0 : x[v,j,k,t] for j = 1:N) == y[v,k,t]); #!\n",
    "\n",
    "# Subtour elimination constrains    \n",
    "@constraint(model,[i = 2:N, j = 2:N, k = 1:K,t = 1:T], z[i,k,t] - d[i,t] >= z[j,k,t] - (1-x[i,j,k,t])*sum(d)); # Load Constrains logic (i=j=2 substrack depot)\n",
    "\n",
    "#Inventory Constrains #!!\n",
    "@constraint(model, [i = 2:N], I[i,0] == I_0[i])    \n",
    "@constraint(model, [i = 2:N,t = 1:T], I[i,t-1] + sum(q[i,k,t] for k = 1:K) == I[i,t] + d[i,t]); \n",
    "@constraint(model, [i = 2:N,t = 1:T], I[i,t-1] + sum(q[i,k,t] for k = 1:K) <= C_1[i]); \n",
    "\n",
    "# Inventory & VRP constrains\n",
    "@constraint(model,[i=2:N,k=1:K,t=1:T], q[i,k,t] <= C_1[i]*y[i,k,t]); # Constraint which ensures y is 1 when they receive a quantity    \n",
    "@constraint(model,[k = 1:K,t = 1:T],  sum(q[i,k,t] for i = 2:N) <= D[k]*y[1,k,t]);# Avoid subtours"
   ]
  },
  {
   "cell_type": "code",
   "execution_count": 33,
   "id": "ac5956b0",
   "metadata": {},
   "outputs": [
    {
     "name": "stdout",
     "output_type": "stream",
     "text": [
      "Gurobi Optimizer version 9.5.1 build v9.5.1rc2 (mac64[arm])\n",
      "Thread count: 8 physical cores, 8 logical processors, using up to 8 threads\n",
      "Optimize a model with 1117 rows, 1350 columns and 4037 nonzeros\n",
      "Model fingerprint: 0x35a09c8d\n",
      "Variable types: 342 continuous, 1008 integer (1008 binary)\n",
      "Coefficient statistics:\n",
      "  Matrix range     [1e+00, 7e+03]\n",
      "  Objective range  [3e-02, 6e+02]\n",
      "  Bounds range     [0e+00, 0e+00]\n",
      "  RHS range        [2e+01, 7e+03]\n",
      "Found heuristic solution: objective 11689.402500\n",
      "Presolve removed 162 rows and 213 columns\n",
      "Presolve time: 0.01s\n",
      "Presolved: 955 rows, 1137 columns, 3758 nonzeros\n",
      "Variable types: 273 continuous, 864 integer (864 binary)\n",
      "\n",
      "Root relaxation: objective 1.664604e+03, 638 iterations, 0.01 seconds (0.00 work units)\n",
      "\n",
      "    Nodes    |    Current Node    |     Objective Bounds      |     Work\n",
      " Expl Unexpl |  Obj  Depth IntInf | Incumbent    BestBd   Gap | It/Node Time\n",
      "\n",
      "     0     0 1664.60369    0   86 11689.4025 1664.60369  85.8%     -    0s\n",
      "H    0     0                    11195.682500 1664.60369  85.1%     -    0s\n",
      "H    0     0                    10406.042500 1664.60369  84.0%     -    0s\n",
      "H    0     0                    7221.4762500 1664.60369  76.9%     -    0s\n",
      "     0     0 2240.88872    0   66 7221.47625 2240.88872  69.0%     -    0s\n",
      "H    0     0                    6767.8550000 2240.88872  66.9%     -    0s\n",
      "H    0     0                    3986.5100000 2240.88872  43.8%     -    0s\n",
      "     0     0 2382.36591    0   62 3986.51000 2382.36591  40.2%     -    0s\n",
      "     0     0 2382.82733    0   83 3986.51000 2382.82733  40.2%     -    0s\n",
      "     0     0 2382.82733    0   80 3986.51000 2382.82733  40.2%     -    0s\n",
      "     0     0 2405.34442    0   54 3986.51000 2405.34442  39.7%     -    0s\n",
      "     0     0 2413.27633    0   49 3986.51000 2413.27633  39.5%     -    0s\n",
      "H    0     0                    3938.0875000 2413.27633  38.7%     -    0s\n",
      "     0     0 2419.15805    0   51 3938.08750 2419.15805  38.6%     -    0s\n",
      "     0     0 2423.77832    0   68 3938.08750 2423.77832  38.5%     -    0s\n",
      "     0     0 2429.35779    0   72 3938.08750 2429.35779  38.3%     -    0s\n",
      "     0     0 2430.29794    0   82 3938.08750 2430.29794  38.3%     -    0s\n",
      "     0     0 2440.86816    0   91 3938.08750 2440.86816  38.0%     -    0s\n",
      "     0     0 2440.89077    0   87 3938.08750 2440.89077  38.0%     -    0s\n",
      "H    0     0                    3735.7275000 2440.89077  34.7%     -    0s\n",
      "     0     0 2447.76730    0   69 3735.72750 2447.76730  34.5%     -    0s\n",
      "     0     0 2451.63942    0   87 3735.72750 2451.63942  34.4%     -    0s\n",
      "H    0     0                    3713.7275000 2456.26109  33.9%     -    0s\n",
      "     0     0 2456.26109    0   79 3713.72750 2456.26109  33.9%     -    0s\n",
      "     0     0 2456.35153    0  103 3713.72750 2456.35153  33.9%     -    0s\n",
      "     0     0 2456.35153    0   96 3713.72750 2456.35153  33.9%     -    0s\n",
      "     0     0 2458.17148    0  105 3713.72750 2458.17148  33.8%     -    0s\n",
      "     0     0 2458.21239    0  113 3713.72750 2458.21239  33.8%     -    0s\n",
      "     0     0 2462.89100    0   80 3713.72750 2462.89100  33.7%     -    0s\n",
      "     0     0 2463.98283    0   80 3713.72750 2463.98283  33.7%     -    0s\n",
      "     0     0 2464.00592    0   96 3713.72750 2464.00592  33.7%     -    0s\n",
      "     0     0 2464.08655    0   76 3713.72750 2464.08655  33.6%     -    0s\n",
      "     0     0 2464.08655    0   76 3713.72750 2464.08655  33.6%     -    0s\n",
      "     0     2 2503.54587    0   73 3713.72750 2503.54587  32.6%     -    0s\n",
      "H   72    73                    3510.8250000 2738.07963  22.0%  61.8    0s\n",
      "H   73    73                    3311.3700000 2738.07963  17.3%  62.1    0s\n",
      "\n",
      "Cutting planes:\n",
      "  Learned: 51\n",
      "  Gomory: 9\n",
      "  Lift-and-project: 18\n",
      "  Cover: 4\n",
      "  Clique: 2\n",
      "  MIR: 95\n",
      "  Flow cover: 62\n",
      "  Flow path: 39\n",
      "  Inf proof: 2\n",
      "  RLT: 19\n",
      "  Relax-and-lift: 2\n",
      "\n",
      "Explored 5775 nodes (170630 simplex iterations) in 1.97 seconds (3.00 work units)\n",
      "Thread count was 8 (of 8 available processors)\n",
      "\n",
      "Solution count 10: 3311.37 3510.82 3713.73 ... 11195.7\n",
      "\n",
      "Optimal solution found (tolerance 1.00e-04)\n",
      "Best objective 3.311370000000e+03, best bound 3.311370000000e+03, gap 0.0000%\n",
      "\n",
      "User-callback calls 12685, time in user-callback 0.00 sec\n"
     ]
    }
   ],
   "source": [
    "#------\n",
    "# SOLVE\n",
    "#------\n",
    "\n",
    "optimize!(model)"
   ]
  },
  {
   "cell_type": "code",
   "execution_count": 34,
   "id": "bc6c5f82",
   "metadata": {},
   "outputs": [
    {
     "name": "stdout",
     "output_type": "stream",
     "text": [
      "Optimal solution:\n",
      "Objective function = 3311.369999999999\n"
     ]
    }
   ],
   "source": [
    "# Printing the optimal solution \n",
    "\n",
    "if termination_status(model) == MOI.OPTIMAL\n",
    "   println(\"Optimal solution:\")\n",
    "   println(\"Objective function = $(objective_value(model))\")\n",
    "else\n",
    "   println(\"No solution found\")\n",
    "end"
   ]
  },
  {
   "cell_type": "code",
   "execution_count": 35,
   "id": "a11143eb",
   "metadata": {},
   "outputs": [
    {
     "name": "stdout",
     "output_type": "stream",
     "text": [
      "The effect of B scenario on the total cost equals to 1170"
     ]
    }
   ],
   "source": [
    "print(\"The effect of B scenario on the total cost equals to \", 4481 - 3311)"
   ]
  },
  {
   "cell_type": "code",
   "execution_count": 36,
   "id": "b634c3ab",
   "metadata": {},
   "outputs": [],
   "source": [
    "# Random.seed!(0);\n",
    "Fullness=zeros(6,8)\n",
    "for r = 1:10000\n",
    "    actual_demand = d + randn(6,8).*std;\n",
    "    for i=1:N\n",
    "        I_1=I_0[i];\n",
    "        for t=1:T\n",
    "            #fillrate=0;\n",
    "            delivered=0;\n",
    "            for k=1:K\n",
    "                delivered = delivered + value(q[i,k,t]);\n",
    "            end\n",
    "            I_1=I_1+delivered-value(actual_demand[i,t]);\n",
    "            fillrate=(max(value(actual_demand[i,t])+min(I_1,0),0))/value(actual_demand[i,t]);\n",
    "            if fillrate>=0.95\n",
    "                Fullness[i,t]=Fullness[i,t] + 1\n",
    "            end\n",
    "        end\n",
    "    end\n",
    "end"
   ]
  },
  {
   "cell_type": "code",
   "execution_count": 37,
   "id": "b396c083",
   "metadata": {},
   "outputs": [
    {
     "name": "stdout",
     "output_type": "stream",
     "text": [
      "The fill ratio of each DC per day can be shonwn in the matrix below:\n"
     ]
    },
    {
     "data": {
      "text/plain": [
       "6×8 Matrix{Float64}:\n",
       " 0.0     0.0  0.0     0.0  0.0  0.0     0.0     0.0\n",
       " 0.9905  1.0  1.0     1.0  1.0  1.0     0.9915  0.5383\n",
       " 1.0     1.0  1.0     1.0  1.0  0.9988  0.9702  0.5324\n",
       " 1.0     1.0  1.0     1.0  1.0  1.0     0.9899  0.5517\n",
       " 1.0     1.0  0.7823  1.0  1.0  1.0     0.997   0.555\n",
       " 1.0     1.0  1.0     1.0  1.0  1.0     0.9991  0.5614"
      ]
     },
     "execution_count": 37,
     "metadata": {},
     "output_type": "execute_result"
    }
   ],
   "source": [
    "print(\"The fill ratio of each DC per day can be shonwn in the matrix below:\\n\")\n",
    "Fullness/10000"
   ]
  },
  {
   "cell_type": "markdown",
   "id": "3810b508",
   "metadata": {},
   "source": [
    "### (c) Both truck and storage capacity is 10 times more than in the current situation"
   ]
  },
  {
   "cell_type": "code",
   "execution_count": 38,
   "id": "955d32ff",
   "metadata": {},
   "outputs": [
    {
     "name": "stdout",
     "output_type": "stream",
     "text": [
      "Set parameter Username\n",
      "Academic license - for non-commercial use only - expires 2022-06-30\n"
     ]
    }
   ],
   "source": [
    "#------\n",
    "# MODEL\n",
    "#------\n",
    "\n",
    "model = Model(Gurobi.Optimizer);\n",
    "\n",
    "@variable(model, I[1:N,0:T] >= 0)          # Inventory level per period\n",
    "@variable(model, q[1:N,1:K,1:T] >= 0)      # Quantity delivered to customer i by vehicle k at start of period T \n",
    "@variable(model, x[1:N,1:N,1:K,1:T], Bin); # Truck k leaves DCi and goes TO DCj\n",
    "@variable(model, y[1:N,1:K,1:T], Bin);     # Truck k arrives at DCi\n",
    "@variable(model, z[1:N,1:K,1:T] >= 0);     # Load of truck k when arriving at node i\n",
    "\n",
    "@objective(model, Min, sum(sum(h*I[i,t]  for i in 2:N) for t in 1:T) #check\n",
    "                      +sum(sum(sum(sum( c[i,j]*x[i,j,k,t] for i in 1:N) for j in 1:N) for k = 1:K) for t in 1:T)); \n",
    "\n",
    "\n",
    "\n",
    "# Multi - period VRP model constrains\n",
    "@constraint(model,[v = 1:N, k = 1:K,t = 1:T], sum(i == v ? 0 : x[i,v,k,t] for i = 1:N) == y[v,k,t]); #!\n",
    "@constraint(model,[v = 1:N, k = 1:K,t = 1:T], sum(j == v ? 0 : x[v,j,k,t] for j = 1:N) == y[v,k,t]); #!\n",
    "\n",
    "# Subtour elimination constrains    \n",
    "@constraint(model,[i = 2:N, j = 2:N, k = 1:K,t = 1:T], z[i,k,t] - d_1[i,t] >= z[j,k,t] - (1-x[i,j,k,t])*sum(d_1)); # Load Constrains logic (i=j=2 substrack depot)\n",
    "\n",
    "#Inventory Constrains #!!\n",
    "@constraint(model, [i = 2:N], I[i,0] == I_0[i])    \n",
    "@constraint(model, [i = 2:N,t = 1:T], I[i,t-1] + sum(q[i,k,t] for k = 1:K) == I[i,t] + d_1[i,t]); \n",
    "@constraint(model, [i = 2:N,t = 1:T], I[i,t-1] + sum(q[i,k,t] for k = 1:K) <= C_1[i]); \n",
    "\n",
    "# Inventory & VRP constrains\n",
    "@constraint(model,[i=2:N,k=1:K,t=1:T], q[i,k,t] <= C_1[i]*y[i,k,t]); # Constraint which ensures y is 1 when they receive a quantity    \n",
    "@constraint(model,[k = 1:K,t = 1:T],  sum(q[i,k,t] for i = 2:N) <= D_1[k]*y[1,k,t]);# Avoid subtours"
   ]
  },
  {
   "cell_type": "code",
   "execution_count": 39,
   "id": "948ad202",
   "metadata": {},
   "outputs": [
    {
     "name": "stdout",
     "output_type": "stream",
     "text": [
      "Gurobi Optimizer version 9.5.1 build v9.5.1rc2 (mac64[arm])\n",
      "Thread count: 8 physical cores, 8 logical processors, using up to 8 threads\n",
      "Optimize a model with 1117 rows, 1350 columns and 4037 nonzeros\n",
      "Model fingerprint: 0x25db5b6c\n",
      "Variable types: 342 continuous, 1008 integer (1008 binary)\n",
      "Coefficient statistics:\n",
      "  Matrix range     [1e+00, 9e+03]\n",
      "  Objective range  [3e-02, 6e+02]\n",
      "  Bounds range     [0e+00, 0e+00]\n",
      "  RHS range        [2e+01, 7e+03]\n",
      "Found heuristic solution: objective 9715.5113311\n",
      "Presolve removed 160 rows and 212 columns\n",
      "Presolve time: 0.00s\n",
      "Presolved: 957 rows, 1138 columns, 3763 nonzeros\n",
      "Variable types: 274 continuous, 864 integer (864 binary)\n",
      "\n",
      "Root relaxation: objective 3.773080e+02, 600 iterations, 0.00 seconds (0.00 work units)\n",
      "\n",
      "    Nodes    |    Current Node    |     Objective Bounds      |     Work\n",
      " Expl Unexpl |  Obj  Depth IntInf | Incumbent    BestBd   Gap | It/Node Time\n",
      "\n",
      "     0     0  377.30803    0   93 9715.51133  377.30803  96.1%     -    0s\n",
      "H    0     0                    8147.9942155  377.30803  95.4%     -    0s\n",
      "H    0     0                    7383.8676241  377.30803  94.9%     -    0s\n",
      "H    0     0                    3017.2422511  377.30803  87.5%     -    0s\n",
      "     0     0 1584.75385    0  111 3017.24225 1584.75385  47.5%     -    0s\n",
      "H    0     0                    2577.2422511 1584.75385  38.5%     -    0s\n",
      "H    0     0                    2143.2422511 1782.87997  16.8%     -    0s\n",
      "     0     0 1783.47859    0  113 2143.24225 1783.47859  16.8%     -    0s\n",
      "     0     0 1784.27692    0  128 2143.24225 1784.27692  16.7%     -    0s\n",
      "     0     0 1784.27692    0  130 2143.24225 1784.27692  16.7%     -    0s\n",
      "     0     0 1845.81615    0   83 2143.24225 1845.81615  13.9%     -    0s\n",
      "H    0     0                    1975.2422511 1851.74609  6.25%     -    0s\n",
      "     0     0 1855.65374    0   59 1975.24225 1855.65374  6.05%     -    0s\n",
      "     0     0 1855.65374    0   54 1975.24225 1855.65374  6.05%     -    0s\n",
      "     0     0     cutoff    0      1975.24225 1975.24225  0.00%     -    0s\n",
      "\n",
      "Cutting planes:\n",
      "  Learned: 30\n",
      "  Gomory: 2\n",
      "  Cover: 2\n",
      "  Implied bound: 15\n",
      "  Clique: 2\n",
      "  MIR: 85\n",
      "  Flow cover: 49\n",
      "  Flow path: 10\n",
      "  RLT: 10\n",
      "  Relax-and-lift: 4\n",
      "\n",
      "Explored 1 nodes (1515 simplex iterations) in 0.08 seconds (0.07 work units)\n",
      "Thread count was 8 (of 8 available processors)\n",
      "\n",
      "Solution count 7: 1975.24 2143.24 2577.24 ... 9715.51\n",
      "\n",
      "Optimal solution found (tolerance 1.00e-04)\n",
      "Best objective 1.975242251109e+03, best bound 1.975242251109e+03, gap 0.0000%\n",
      "\n",
      "User-callback calls 315, time in user-callback 0.00 sec\n"
     ]
    }
   ],
   "source": [
    "#------\n",
    "# SOLVE\n",
    "#------\n",
    "\n",
    "optimize!(model)"
   ]
  },
  {
   "cell_type": "code",
   "execution_count": 40,
   "id": "ea7bee1a",
   "metadata": {},
   "outputs": [
    {
     "name": "stdout",
     "output_type": "stream",
     "text": [
      "Optimal solution:\n",
      "Objective function = 1975.2422511091265\n"
     ]
    }
   ],
   "source": [
    "# Printing the optimal solution \n",
    "\n",
    "if termination_status(model) == MOI.OPTIMAL\n",
    "   println(\"Optimal solution:\")\n",
    "   println(\"Objective function = $(objective_value(model))\")\n",
    "else\n",
    "   println(\"No solution found\")\n",
    "end"
   ]
  },
  {
   "cell_type": "code",
   "execution_count": 41,
   "id": "265d2bcd",
   "metadata": {},
   "outputs": [
    {
     "name": "stdout",
     "output_type": "stream",
     "text": [
      "The effect of C scenario : 2506"
     ]
    }
   ],
   "source": [
    "print(\"The effect of C scenario : \", 4481 - 1975)"
   ]
  },
  {
   "cell_type": "code",
   "execution_count": 42,
   "id": "dac93110",
   "metadata": {},
   "outputs": [],
   "source": [
    "# Random.seed!(0);\n",
    "Fullness=zeros(6,8)\n",
    "for r = 1:10000\n",
    "    actual_demand = d + randn(6,8).*std;\n",
    "    for i=1:N\n",
    "        I_1=I_0[i];\n",
    "        for t=1:T\n",
    "            #fillrate=0;\n",
    "            delivered=0;\n",
    "            for k=1:K\n",
    "                delivered = delivered + value(q[i,k,t]);\n",
    "            end\n",
    "            I_1=I_1+delivered-value(actual_demand[i,t]);\n",
    "            fillrate=(max(value(actual_demand[i,t])+min(I_1,0),0))/value(actual_demand[i,t]);\n",
    "            if fillrate>=0.95\n",
    "                Fullness[i,t]=Fullness[i,t] + 1\n",
    "            end\n",
    "        end\n",
    "    end\n",
    "end"
   ]
  },
  {
   "cell_type": "code",
   "execution_count": 43,
   "id": "bf47e7a3",
   "metadata": {},
   "outputs": [
    {
     "name": "stdout",
     "output_type": "stream",
     "text": [
      "The fill ratio of each DC per day can be shonwn in the matrix below:\n"
     ]
    },
    {
     "data": {
      "text/plain": [
       "6×8 Matrix{Float64}:\n",
       " 0.0  0.0  0.0  0.0  0.0  0.0  0.0     0.0\n",
       " 1.0  1.0  1.0  1.0  1.0  1.0  1.0     1.0\n",
       " 1.0  1.0  1.0  1.0  1.0  1.0  0.9995  1.0\n",
       " 1.0  1.0  1.0  1.0  1.0  1.0  1.0     1.0\n",
       " 1.0  1.0  1.0  1.0  1.0  1.0  1.0     1.0\n",
       " 1.0  1.0  1.0  1.0  1.0  1.0  1.0     1.0"
      ]
     },
     "execution_count": 43,
     "metadata": {},
     "output_type": "execute_result"
    }
   ],
   "source": [
    "print(\"The fill ratio of each DC per day can be shonwn in the matrix below:\\n\")\n",
    "Fullness/10000"
   ]
  },
  {
   "cell_type": "markdown",
   "id": "48ca5e4e",
   "metadata": {},
   "source": [
    "## 3. In case both storage and truck capacity is inflated 10 times, you should notice from your analysis above that the fill rate target can be met using a much smaller safety factor. Use what you have learned in this course to explain why this is the case.\n",
    "Hint: Look at the difference in the optimal routes used in the solution with the given capacities compared to the solution when capacities are inflated."
   ]
  },
  {
   "cell_type": "markdown",
   "id": "9b9d99e1",
   "metadata": {},
   "source": [
    "The fill rate ratio is effectively 100% for each DC on each day, as seen in the matrix therefore the current model is robust enough to fullfill all customers demands within the planning horizon, when there is an increase in both truck and storage capacity. As capacity increase uncerntainty decreases hence a smaller safety factor can still meet the fill rate target."
   ]
  },
  {
   "cell_type": "markdown",
   "id": "fce131f4",
   "metadata": {},
   "source": [
    "---------------------------------------------------------------------------------------------------------------------------------------"
   ]
  },
  {
   "cell_type": "markdown",
   "id": "d682b228",
   "metadata": {},
   "source": [
    "# Part IV: Flexibility analysis "
   ]
  },
  {
   "cell_type": "markdown",
   "id": "9e788200",
   "metadata": {},
   "source": [
    "### Consider the situation where the customers provide their orders one day earlier than they currently do. Whatflexibility is there in your current solution (to Part II) for utilizing this information to reduce costs? In what waycan the inventory routing model be updated in order to create even more of this kind of flexibility? "
   ]
  },
  {
   "cell_type": "markdown",
   "id": "14dd748d",
   "metadata": {},
   "source": [
    "In this situation, if orders are received a day earlier than at present, the company will have more time to manage inventories and potentially update their forecasts accordingly giving more true reflection on the current and future demand. As vehicle routes are planned for the next 8 days this may allow time for adjustment in the vehicle routes/ inventory to reduce backlog. as a result reduce the costs. It goes without saying that the interest of any company is to be able to manage the inventory in the most economically viable way, otherwise, it could lead to unfulfilled orders. as these are perishable goods  all of which with unwelcomed results like the loss of customers. Therefore, what is trying to be said is that the interest is to stay updated, which means that receiving orders a day earlier can be beneficial to reducing costs. <br>\n",
    "\n",
    "This could be due to the fact that, for example, the first way to reduce costs is with the safety factor which can be reduced as more information in advance will reduce the uncertainty and this will allow more accurate forecasting of the products allowing lower safety factor values less rate target and increasing the value of the warehouse space.\n"
   ]
  },
  {
   "cell_type": "markdown",
   "id": "356ae3c0",
   "metadata": {},
   "source": []
  }
 ],
 "metadata": {
  "kernelspec": {
   "display_name": "Julia 1.7.2",
   "language": "julia",
   "name": "julia-1.7"
  },
  "language_info": {
   "file_extension": ".jl",
   "mimetype": "application/julia",
   "name": "julia",
   "version": "1.7.2"
  }
 },
 "nbformat": 4,
 "nbformat_minor": 5
}
